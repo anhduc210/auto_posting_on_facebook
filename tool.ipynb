{
 "cells": [
  {
   "cell_type": "code",
   "execution_count": 1,
   "metadata": {},
   "outputs": [
    {
     "name": "stdout",
     "output_type": "stream",
     "text": [
      "- Finish importing package\n"
     ]
    }
   ],
   "source": [
    "# Khai báo thư viện cần dùng trong dự án \r\n",
    "from selenium import webdriver\r\n",
    "from selenium.webdriver.common.keys import Keys\r\n",
    "from selenium.webdriver.common.by import By\r\n",
    "from bs4 import BeautifulSoup\r\n",
    "from time import sleep\r\n",
    "import csv\r\n",
    "import regex\r\n",
    "import facebook as fb \r\n",
    "print('- Finish importing package')"
   ]
  },
  {
   "cell_type": "code",
   "execution_count": 2,
   "metadata": {},
   "outputs": [
    {
     "name": "stderr",
     "output_type": "stream",
     "text": [
      "C:\\Users\\ADMIN\\AppData\\Local\\Temp\\ipykernel_11168\\3805386997.py:4: DeprecationWarning: executable_path has been deprecated, please pass in a Service object\n",
      "  driver = webdriver.Chrome(\"C:\\chromedriver.exe\")\n",
      "C:\\Users\\ADMIN\\AppData\\Local\\Temp\\ipykernel_11168\\3805386997.py:20: DeprecationWarning: find_element_by_* commands are deprecated. Please use find_element() instead\n",
      "  email_field = driver.find_element_by_id('email')\n",
      "C:\\Users\\ADMIN\\AppData\\Local\\Temp\\ipykernel_11168\\3805386997.py:25: DeprecationWarning: find_element_by_name is deprecated. Please use find_element(by=By.NAME, value=name) instead\n",
      "  password_field = driver.find_element_by_name('pass')\n"
     ]
    },
    {
     "name": "stdout",
     "output_type": "stream",
     "text": [
      "- Finish initializing a driver\n",
      "- Finish importing the login credentials\n",
      "- Finish keying in email\n",
      "- Finish keying in password\n",
      "- Finish Task 1: Login to Linkedin\n"
     ]
    }
   ],
   "source": [
    "# Task 1: Đăng nhập vào LinkedIn\r\n",
    "\r\n",
    "# Task 1.1:Mở Chrome và truy cập vào websitr LinkedIn\r\n",
    "driver = webdriver.Chrome(\"C:\\chromedriver.exe\")\r\n",
    "sleep(2)\r\n",
    "url = 'https://vi-vn.facebook.com/login/'\r\n",
    "driver.get(url)\r\n",
    "print('- Finish initializing a driver')\r\n",
    "sleep(2)\r\n",
    "\r\n",
    "# Task 1.2: Truyền giá trị cho biến tài khoản và mật khẩu\r\n",
    "credential = open('tkmk.txt')\r\n",
    "line = credential.readlines()\r\n",
    "username = line[6]\r\n",
    "password = line[7]\r\n",
    "print('- Finish importing the login credentials')\r\n",
    "sleep(2)\r\n",
    "\r\n",
    "# Task 1.2: Truyền biến tài khoản và mật khẩu vào trong phần điền thông tin đăng nhập\r\n",
    "email_field = driver.find_element_by_id('email')\r\n",
    "email_field.send_keys(username)\r\n",
    "print('- Finish keying in email')\r\n",
    "sleep(3)\r\n",
    "\r\n",
    "password_field = driver.find_element_by_name('pass')\r\n",
    "password_field.send_keys(password)\r\n",
    "print('- Finish keying in password')\r\n",
    "sleep(2)\r\n",
    "\r\n",
    "# Task 1.2: Nhấn nút đăng nhập \r\n",
    "# signin_field = driver.find_element_by_xpath('//*[@id=\"loginbutton\"]')\r\n",
    "# signin_field.click()\r\n",
    "sleep(3)\r\n",
    "\r\n",
    "print('- Finish Task 1: Login to Linkedin')"
   ]
  },
  {
   "cell_type": "code",
   "execution_count": 4,
   "metadata": {},
   "outputs": [],
   "source": [
    "driver.quit(); "
   ]
  },
  {
   "cell_type": "code",
   "execution_count": 3,
   "metadata": {},
   "outputs": [
    {
     "name": "stderr",
     "output_type": "stream",
     "text": [
      "C:\\Users\\ADMIN\\AppData\\Local\\Temp\\ipykernel_13976\\1294360341.py:6: DeprecationWarning: find_element_by_xpath is deprecated. Please use find_element(by=By.XPATH, value=xpath) instead\n",
      "  btn_up = driver.find_element_by_xpath('/html/body/div[1]/div/div[1]/div/div[3]/div/div/div[1]/div[1]/div[3]/div/div/div/div[2]/div/div/div[2]/div/div/div/div[1]/div/i').click()\n",
      "C:\\Users\\ADMIN\\AppData\\Local\\Temp\\ipykernel_13976\\1294360341.py:11: DeprecationWarning: find_element_by_xpath is deprecated. Please use find_element(by=By.XPATH, value=xpath) instead\n",
      "  btn_up = driver.find_element_by_xpath('/html/body/div[1]/div/div[1]/div/div[3]/div/div/div[2]/div/div/div[1]/div[1]/div/div/div[1]/div/div/div[1]/div/div[1]/div/a/div[2]').click()\n",
      "C:\\Users\\ADMIN\\AppData\\Local\\Temp\\ipykernel_13976\\1294360341.py:15: DeprecationWarning: find_element_by_xpath is deprecated. Please use find_element(by=By.XPATH, value=xpath) instead\n",
      "  btn_up = driver.find_element_by_xpath('/html/body/div[1]/div/div[1]/div/div[3]/div/div/div[1]/div[1]/div[1]/div/div[2]/div[1]/div[2]/div[2]/a/div[1]').click()\n",
      "C:\\Users\\ADMIN\\AppData\\Local\\Temp\\ipykernel_13976\\1294360341.py:17: DeprecationWarning: find_element_by_xpath is deprecated. Please use find_element(by=By.XPATH, value=xpath) instead\n",
      "  btn_up = driver.find_element_by_xpath('/html/body/div[1]/div/div[1]/div/div[3]/div/div/div[1]/div[1]/div[2]/div/div/div/div/div/div/div[2]/div[1]/div/div/div/div/div/div/div/div/div/div[2]/div/div[4]/div/a/div').click()\n",
      "C:\\Users\\ADMIN\\AppData\\Local\\Temp\\ipykernel_13976\\1294360341.py:20: DeprecationWarning: find_element_by_xpath is deprecated. Please use find_element(by=By.XPATH, value=xpath) instead\n",
      "  btn_up = driver.find_element_by_xpath('/html/body/div[1]/div/div[1]/div/div[3]/div/div/div[1]/div[1]/div[4]/div/div/div/div/div/div[1]/div[2]/div[3]/div[2]/div/div/div/div/div/div/div/div[1]/div/div[2]/div/div[2]/div/div[3]').click()\n",
      "C:\\Users\\ADMIN\\AppData\\Local\\Temp\\ipykernel_13976\\1294360341.py:24: DeprecationWarning: find_element_by_xpath is deprecated. Please use find_element(by=By.XPATH, value=xpath) instead\n",
      "  btn_up = driver.find_element_by_xpath('/html/body/div[1]/div/div[1]/div/div[3]/div/div/div[2]/div/div/div[1]/div[1]/div/div/div[1]/div/div/div/div[1]/div/div[4]').click()\n"
     ]
    }
   ],
   "source": [
    "with open('content.txt',encoding='UTF-8') as rf:\r\n",
    "    content_txt=  rf.read()\r\n",
    "driver.get(\"https://www.facebook.com/groups/freelancer.itjob/\")\r\n",
    "sleep(2)\r\n",
    "try:\r\n",
    "    btn_up = driver.find_element_by_xpath('/html/body/div[1]/div/div[1]/div/div[3]/div/div/div[1]/div[1]/div[3]/div/div/div/div[2]/div/div/div[2]/div/div/div/div[1]/div/i').click()\r\n",
    "except:\r\n",
    "    btn_up = driver.find_element_by_xpath('/html/body/div[1]/div/div[1]/div/div[3]/div/div/div[1]/div[1]/div[3]/div/div/div/div[2]/div/div[2]/div/div/div/div[1]/div/i').click()\r\n",
    "sleep(1)\r\n",
    "try:\r\n",
    "    btn_up = driver.find_element_by_xpath('/html/body/div[1]/div/div[1]/div/div[3]/div/div/div[2]/div/div/div[1]/div[1]/div/div/div[1]/div/div/div[1]/div/div[1]/div/a/div[2]').click()\r\n",
    "except:\r\n",
    "    btn_up = driver.find_element_by_xpath('/html/body/div[1]/div/div[1]/div/div[3]/div/div/div[2]/div/div/div[1]/div[1]/div/div/div[1]/div/div/div[1]/div/div[1]/div/a/div[2]').click()\r\n",
    "sleep(1)\r\n",
    "btn_up = driver.find_element_by_xpath('/html/body/div[1]/div/div[1]/div/div[3]/div/div/div[1]/div[1]/div[1]/div/div[2]/div[1]/div[2]/div[2]/a/div[1]').click()\r\n",
    "sleep(1)\r\n",
    "btn_up = driver.find_element_by_xpath('/html/body/div[1]/div/div[1]/div/div[3]/div/div/div[1]/div[1]/div[2]/div/div/div/div/div/div/div[2]/div[1]/div/div/div/div/div/div/div/div/div/div[2]/div/div[4]/div/a/div').click()\r\n",
    "sleep(1)\r\n",
    "try:\r\n",
    "    btn_up = driver.find_element_by_xpath('/html/body/div[1]/div/div[1]/div/div[3]/div/div/div[1]/div[1]/div[4]/div/div/div/div/div/div[1]/div[2]/div[3]/div[2]/div/div/div/div/div/div/div/div[1]/div/div[2]/div/div[2]/div/div[3]').click()\r\n",
    "except:\r\n",
    "    btn_up = driver.find_element_by_xpath('/html/body/div[1]/div/div[1]/div/div[3]/div/div/div[1]/div[1]/div[4]/div/div/div/div/div[1]/div[2]/div[2]/div[2]/div/div/div/div/div/div/div/div[1]/div/div[2]/div/div[2]/div/div[3]').click()\r\n",
    "sleep(1)\r\n",
    "btn_up = driver.find_element_by_xpath('/html/body/div[1]/div/div[1]/div/div[3]/div/div/div[2]/div/div/div[1]/div[1]/div/div/div[1]/div/div/div/div[1]/div/div[4]').click()\r\n",
    "sleep(1)\r\n",
    "# try:    \r\n",
    "#     content =driver.find_element_by_class_name(\"_5rpu\")\r\n",
    "# except:\r\n",
    "#     content =driver.find_element_by_class_name(\"_5rpu\")\r\n",
    "# content.send_keys(content_txt)\r\n",
    "# try:    \r\n",
    "#     btn = driver.find_element_by_xpath('/html/body/div[1]/div/div[1]/div/div[4]/div/div/div[1]/div/div[2]/div/div/div/div/div[1]/form/div/div[1]/div/div/div[1]/div/div[3]/div[2]/div/div/div/div[1]/div/span/span').click()\r\n",
    "# except:\r\n",
    "#     btn = driver.find_element_by_xpath('/html/body/div[1]/div/div[1]/div/div[4]/div/div/div[1]/div/div[2]/div/div/div/div/div[1]/form/div/div[1]/div/div/div[1]/div/div[3]/div[2]/div/div/div/div[1]/div/span/span').click()\r\n",
    "# sleep(3)"
   ]
  },
  {
   "cell_type": "code",
   "execution_count": 6,
   "metadata": {},
   "outputs": [
    {
     "name": "stderr",
     "output_type": "stream",
     "text": [
      "C:\\Users\\ADMIN\\AppData\\Local\\Temp\\ipykernel_11168\\876468849.py:10: DeprecationWarning: find_element_by_xpath is deprecated. Please use find_element(by=By.XPATH, value=xpath) instead\n",
      "  btn_up = driver.find_element_by_xpath('/html/body/div[1]/div/div[1]/div/div[3]/div/div/div/div[1]/div[1]/div[4]/div/div/div/div/div/div[1]/div[1]/div/div/div/div[1]/div/div[1]/span').click()\n",
      "C:\\Users\\ADMIN\\AppData\\Local\\Temp\\ipykernel_11168\\876468849.py:15: DeprecationWarning: find_element_by_xpath is deprecated. Please use find_element(by=By.XPATH, value=xpath) instead\n",
      "  btn_up = driver.find_element_by_xpath('/html/body/div[1]/div/div[1]/div/div[4]/div/div/div[1]/div/div[2]/div/div/div/div/div[1]/form/div/div[1]/div/div/div[1]/div/div[2]/div[1]/div[1]/div[2]/div/div/span/img').click()\n",
      "C:\\Users\\ADMIN\\AppData\\Local\\Temp\\ipykernel_11168\\876468849.py:20: DeprecationWarning: find_element_by_xpath is deprecated. Please use find_element(by=By.XPATH, value=xpath) instead\n",
      "  btn_up = driver.find_element_by_xpath('/html/body/div[1]/div/div[1]/div/div[4]/div/div/div[1]/div/div[2]/div/div/div/div/div[1]/form/div/div[1]/div/div/div[1]/div/div[2]/div[1]/div[1]/div[2]/div/div[2]/div/div[5]').click()\n",
      "C:\\Users\\ADMIN\\AppData\\Local\\Temp\\ipykernel_11168\\876468849.py:25: DeprecationWarning: find_element_by_class_name is deprecated. Please use find_element(by=By.CLASS_NAME, value=name) instead\n",
      "  content =driver.find_element_by_class_name(\"_5rpu\")\n",
      "C:\\Users\\ADMIN\\AppData\\Local\\Temp\\ipykernel_11168\\876468849.py:31: DeprecationWarning: find_element_by_xpath is deprecated. Please use find_element(by=By.XPATH, value=xpath) instead\n",
      "  btn = driver.find_element_by_xpath('/html/body/div[1]/div/div[1]/div/div[4]/div/div/div[1]/div/div[2]/div/div/div/div/div[1]/form/div/div[1]/div/div/div[1]/div/div[3]/div[2]/div/div/div/div[1]/div/span/span').click()\n"
     ]
    },
    {
     "name": "stdout",
     "output_type": "stream",
     "text": [
      "- Finish \n"
     ]
    }
   ],
   "source": [
    "with open('content.txt',encoding='UTF-8') as rf:\r\n",
    "    content_txt=  rf.read()\r\n",
    "# with open('link_grfb.txt', 'r') as f:\r\n",
    "#     datalist = f.readlines () \r\n",
    "# for url_grfb in datalist:\r\n",
    "driver.get(\"https://www.facebook.com/groups/598654360155373\")\r\n",
    "# print(url_grfb)\r\n",
    "sleep(2)\r\n",
    "try:\r\n",
    "    btn_up = driver.find_element_by_xpath('/html/body/div[1]/div/div[1]/div/div[3]/div/div/div/div[1]/div[1]/div[4]/div/div/div/div/div/div[1]/div[1]/div/div/div/div[1]/div/div[1]/span').click()\r\n",
    "except:\r\n",
    "    btn_up = driver.find_element_by_xpath('/html/body/div[1]/div/div[1]/div/div[3]/div/div/div[1]/div[1]/div[4]/div/div/div/div/div/div[1]/div[1]/div/div/div/div[1]/div/div[1]/span').click()\r\n",
    "sleep(2)\r\n",
    "try:\r\n",
    "    btn_up = driver.find_element_by_xpath('/html/body/div[1]/div/div[1]/div/div[4]/div/div/div[1]/div/div[2]/div/div/div/div/div[1]/form/div/div[1]/div/div/div[1]/div/div[2]/div[1]/div[1]/div[2]/div/div/span/img').click()\r\n",
    "except:\r\n",
    "    btn_up = driver.find_element_by_xpath('/html/body/div[1]/div/div[1]/div/div[4]/div/div/div[1]/div/div[2]/div/div/div/div/div[1]/form/div/div[1]/div/div/div[1]/div/div[2]/div[1]/div[1]/div[2]/div/div/span/img').click()\r\n",
    "sleep(1)\r\n",
    "try:\r\n",
    "    btn_up = driver.find_element_by_xpath('/html/body/div[1]/div/div[1]/div/div[4]/div/div/div[1]/div/div[2]/div/div/div/div/div[1]/form/div/div[1]/div/div/div[1]/div/div[2]/div[1]/div[1]/div[2]/div/div[2]/div/div[5]').click()\r\n",
    "except:\r\n",
    "    btn_up = driver.find_element_by_xpath('/html/body/div[1]/div/div[1]/div/div[4]/div/div/div[1]/div/div[2]/div/div/div/div/div[1]/form/div/div[1]/div/div/div[1]/div/div[2]/div[1]/div[1]/div[2]/div/div[2]/div/div[5]').click()\r\n",
    "sleep(1)\r\n",
    "try:    \r\n",
    "    content =driver.find_element_by_class_name(\"_5rpu\")\r\n",
    "except:\r\n",
    "    content =driver.find_element_by_class_name(\"_5rpu\")\r\n",
    "sleep(1)\r\n",
    "content.send_keys(content_txt)\r\n",
    "try:    \r\n",
    "    btn = driver.find_element_by_xpath('/html/body/div[1]/div/div[1]/div/div[4]/div/div/div[1]/div/div[2]/div/div/div/div/div[1]/form/div/div[1]/div/div/div[1]/div/div[3]/div[2]/div/div/div/div[1]/div/span/span').click()\r\n",
    "except:\r\n",
    "    btn = driver.find_element_by_xpath('/html/body/div[1]/div/div[1]/div/div[4]/div/div/div[1]/div/div[2]/div/div/div/div/div[1]/form/div/div[1]/div/div/div[1]/div/div[3]/div[2]/div/div/div/div[1]/div/span/span').click()\r\n",
    "sleep(5)\r\n",
    "print('- Finish ')"
   ]
  },
  {
   "cell_type": "code",
   "execution_count": 51,
   "metadata": {},
   "outputs": [
    {
     "name": "stdout",
     "output_type": "stream",
     "text": [
      "[HN] TUYỂN DỤNG NHÂN VIÊN KINH DOANH CẦU GIẤY - PARTTIME🌈\n",
      "🔥 Thu nhập: Lương cứng 2M đủ 20 ca / tháng +% kpi\n",
      "Thời gian : Đăng kí ca theo ngày linh hoạt theo lịch học\n",
      "- Ca Sáng: 8h00 - 11h00\n",
      "- Ca Chiều: 14h – 17h00\n",
      "- Ca Tối: 18h – 21h00\n",
      "Inbox để nhận JD chi tết\n"
     ]
    }
   ],
   "source": [
    "import regex\r\n",
    "with open('content.txt',encoding='UTF-8') as f:\r\n",
    "    data=  f.read()\r\n",
    "    print(data)"
   ]
  },
  {
   "cell_type": "code",
   "execution_count": null,
   "metadata": {},
   "outputs": [],
   "source": [
    "access_token = \"EAAFZCgeeb3RMBAETPQaTYzsGkBfEkzE60URZCdC4ScvFQdzUySj9kyhUJAffT9DtjyoN7gP1cudZBL5LJGtCbZBCyAjXmAY0nNvtxYpXO0e8g6yzBZAYNVKRCPeHchupp5R1yEI6Q2dqVmZA364Kpch1ZAZAkg3qhAMezZBZAZB9LOARzjC2P6mP28z7LNrCD4rqNXiYP7PWyYJ9YGBSVTuAyjudq20LDO7JeAZBZCw8GJLf26qZCZC5vDcMIZCB\"\r\n",
    "graph= fb.GraphAPI(access_token)\r\n",
    "profile = graph.get_object(\"me\")\r\n",
    "print(profile)\r\n",
    "# x= graph.put_object(\"me\", \"feed\", message = \"anh duc dep\")"
   ]
  }
 ],
 "metadata": {
  "kernelspec": {
   "display_name": "Python 3.9.13 64-bit",
   "metadata": {
    "interpreter": {
     "hash": "f4b15ca22223b0c1c642670802e5a159a553b6621a7113af7c9c066ecf82a907"
    }
   },
   "name": "python3"
  },
  "language_info": {
   "codemirror_mode": {
    "name": "ipython",
    "version": 3
   },
   "file_extension": ".py",
   "mimetype": "text/x-python",
   "name": "python",
   "nbconvert_exporter": "python",
   "pygments_lexer": "ipython3",
   "version": "3.9.13"
  },
  "orig_nbformat": 2
 },
 "nbformat": 4,
 "nbformat_minor": 2
}